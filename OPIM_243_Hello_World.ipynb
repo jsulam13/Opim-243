{
  "nbformat": 4,
  "nbformat_minor": 0,
  "metadata": {
    "colab": {
      "name": "OPIM 243 Hello World",
      "provenance": [],
      "authorship_tag": "ABX9TyNOg/oc8cxjt/jo/ad4kb3H",
      "include_colab_link": true
    },
    "kernelspec": {
      "name": "python3",
      "display_name": "Python 3"
    },
    "language_info": {
      "name": "python"
    }
  },
  "cells": [
    {
      "cell_type": "markdown",
      "metadata": {
        "id": "view-in-github",
        "colab_type": "text"
      },
      "source": [
        "<a href=\"https://colab.research.google.com/github/jsulam13/Opim-243/blob/main/OPIM_243_Hello_World.ipynb\" target=\"_parent\"><img src=\"https://colab.research.google.com/assets/colab-badge.svg\" alt=\"Open In Colab\"/></a>"
      ]
    },
    {
      "cell_type": "code",
      "execution_count": null,
      "metadata": {
        "id": "-J9r3dMx4pVo"
      },
      "outputs": [],
      "source": [
        "#Hello World Code\n",
        "print('Hello World')\n",
        "\n",
        "#Python Operands\n",
        "x = 2+2\n",
        "print(x)"
      ]
    }
  ]
}